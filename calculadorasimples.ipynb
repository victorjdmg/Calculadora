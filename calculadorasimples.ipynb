{
  "cells": [
    {
      "cell_type": "code",
      "execution_count": null,
      "metadata": {
        "colab": {
          "base_uri": "https://localhost:8080/"
        },
        "id": "5ESUIKJ23GHs",
        "outputId": "9eb87f93-959c-491e-b2d6-8eb8115a26bf"
      },
      "outputs": [
        {
          "name": "stdout",
          "output_type": "stream",
          "text": [
            "Digite o primeiro número: 10\n",
            "Digite a operação: +\n",
            "Digite o segundo número: 3\n",
            "10 + 3 = 13\n",
            "Digite 'sair' para terminar ou qualquer tecla para continuar: \n"
          ]
        }
      ],
      "source": [
        "numero1 = 0\n",
        "operacao = ''\n",
        "numero2 = 0\n",
        "final = ''\n",
        "\n",
        "while True:    #Aqui é um loop infinito que só encerra se o cliente digitar sair\n",
        "    numero1 = int(input(\"Digite o primeiro número: \")) #Aqui o cliente digita o primeiro número\n",
        "    operacao = input(\"Digite a operação: \") #Aqui o cliente digita a operação\n",
        "    numero2 = int(input(\"Digite o segundo número: \")) #Aqui o cliente digita o segundo número\n",
        "\n",
        "    if operacao == \"+\":\n",
        "        resultado = numero1 + numero2\n",
        "    elif operacao == \"-\":\n",
        "        resultado = numero1 - numero2\n",
        "    elif operacao == \"*\":\n",
        "        resultado = numero1 * numero2\n",
        "    elif operacao == \"/\":\n",
        "        resultado = numero1 / numero2\n",
        "    else:\n",
        "        resultado = \"Operação inválida\" #\n",
        "\n",
        "    print(str(numero1) + \" \" + operacao + \" \" + str(numero2) + \" = \" + str(resultado))\n",
        "\n",
        "    final = input(\"Digite 'sair' para terminar ou qualquer tecla para continuar: \").lower()   #Aqui se o cliente digitar sair o programa encerra, caso contrário ele continua\n",
        "    if final == 'sair':\n",
        "        break"
      ]
    }
  ],
  "metadata": {
    "colab": {
      "provenance": []
    },
    "kernelspec": {
      "display_name": "Python 3",
      "name": "python3"
    },
    "language_info": {
      "name": "python"
    }
  },
  "nbformat": 4,
  "nbformat_minor": 0
}
